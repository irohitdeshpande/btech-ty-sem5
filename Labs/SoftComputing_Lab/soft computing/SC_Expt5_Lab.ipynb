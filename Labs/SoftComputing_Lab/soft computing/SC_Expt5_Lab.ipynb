{
 "cells": [
  {
   "cell_type": "markdown",
   "metadata": {},
   "source": [
    "## SC Experiment 5 - Adeline Network OR function"
   ]
  },
  {
   "cell_type": "code",
   "execution_count": 3,
   "metadata": {},
   "outputs": [
    {
     "name": "stdout",
     "output_type": "stream",
     "text": [
      "Defaulting to user installation because normal site-packages is not writeable\n",
      "Collecting numpy\n",
      "  Using cached numpy-2.1.0-cp312-cp312-win_amd64.whl.metadata (59 kB)\n",
      "Using cached numpy-2.1.0-cp312-cp312-win_amd64.whl (12.6 MB)\n",
      "Installing collected packages: numpy\n",
      "Successfully installed numpy-2.1.0\n"
     ]
    }
   ],
   "source": [
    "!pip install numpy\n"
   ]
  },
  {
   "cell_type": "code",
   "execution_count": 9,
   "metadata": {},
   "outputs": [
    {
     "name": "stdout",
     "output_type": "stream",
     "text": [
      "Mean squared error: [1.98437639]\n",
      "Input: [1 1], Output: [1.38955351]\n",
      "Input: [ 1 -1], Output: [0.65067567]\n",
      "Input: [-1  1], Output: [0.66329608]\n",
      "Input: [-1 -1], Output: [-0.07558176]\n",
      "Weights: [0.36312872 0.36943892], Bias: [0.65698587]\n",
      "Number of epochs: 2\n"
     ]
    }
   ],
   "source": [
    "import numpy as np\n",
    "\n",
    "def adaline(X, t, learning_rate=0.1, initial_weights=0.1, mean_squared_error=2, max_epochs=100):\n",
    "\n",
    "  # Initialize weights and bias\n",
    "  weights = np.array([initial_weights] * X.shape[1])\n",
    "  bias = np.random.rand(1)\n",
    "\n",
    "  for epoch in range(max_epochs):\n",
    "    total_error = 0 \n",
    "    for i in range(len(X)):\n",
    "      net = np.dot(X[i], weights) + bias\n",
    "      y = net\n",
    "      error = t[i] - y\n",
    "      total_error += error**2\n",
    "      weights += learning_rate * error * X[i]\n",
    "      bias += learning_rate * error\n",
    "\n",
    "    if total_error < mean_squared_error:\n",
    "      print(f\"Mean squared error: {total_error}\")\n",
    "      break\n",
    "\n",
    "  return weights, bias, epoch + 1\n",
    "\n",
    "# Input data and targets\n",
    "X = np.array([[1, 1], [1, -1], [-1, 1], [-1, -1]])\n",
    "t = np.array([1, 1, 1, -1])\n",
    "\n",
    "# Train the Adaline network\n",
    "weights, bias, epochs = adaline(X, t)\n",
    "total_error = 0\n",
    "\n",
    "# Test the trained network\n",
    "for x in X:\n",
    "  net = np.dot(x, weights) + bias\n",
    "  y = net\n",
    "  print(f\"Input: {x}, Output: {y}\")\n",
    "\n",
    "print(f\"Weights: {weights}, Bias: {bias}\")\n",
    "print(f\"Number of epochs: {epochs}\")"
   ]
  },
  {
   "cell_type": "markdown",
   "metadata": {},
   "source": [
    "## Postlab (Experiment 5)"
   ]
  },
  {
   "cell_type": "code",
   "execution_count": 2,
   "metadata": {},
   "outputs": [
    {
     "name": "stdout",
     "output_type": "stream",
     "text": [
      "Input: [1 1], Output: [0.49671273]\n",
      "Input: [ 1 -1], Output: [0.71353985]\n",
      "Input: [-1  1], Output: [-0.10610124]\n",
      "Input: [-1 -1], Output: [0.11072589]\n"
     ]
    }
   ],
   "source": [
    "import numpy as np\n",
    "\n",
    "def adaline(X, t, learning_rate=0.1, epochs=1):\n",
    "  # Initialize weights and bias\n",
    "  weights = np.random.rand(2)\n",
    "  bias = np.random.rand(1)\n",
    "\n",
    "  for epoch in range(epochs):\n",
    "    for i in range(len(X)):\n",
    "      net = np.dot(X[i], weights) + bias\n",
    "      y = net\n",
    "      error = t[i] - y\n",
    "      weights += learning_rate * error * X[i]\n",
    "      bias += learning_rate * error\n",
    "\n",
    "  return weights, bias\n",
    "\n",
    "# Input data and targets\n",
    "X = np.array([[1, 1], [1, -1], [-1, 1], [-1, -1]])\n",
    "t = np.array([-1, 1, -1, -1])\n",
    "\n",
    "# Train the Adaline network for 1 epoch\n",
    "weights, bias = adaline(X, t, epochs=1)\n",
    "\n",
    "# Test the trained network\n",
    "for x in X:\n",
    "  net = np.dot(x, weights) + bias\n",
    "  y = net\n",
    "  print(f\"Input: {x}, Output: {y}\")"
   ]
  }
 ],
 "metadata": {
  "kernelspec": {
   "display_name": "Python 3",
   "language": "python",
   "name": "python3"
  },
  "language_info": {
   "codemirror_mode": {
    "name": "ipython",
    "version": 3
   },
   "file_extension": ".py",
   "mimetype": "text/x-python",
   "name": "python",
   "nbconvert_exporter": "python",
   "pygments_lexer": "ipython3",
   "version": "3.12.5"
  }
 },
 "nbformat": 4,
 "nbformat_minor": 2
}
